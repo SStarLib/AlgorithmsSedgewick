{
  "nbformat": 4,
  "nbformat_minor": 0,
  "metadata": {
    "colab": {
      "name": "DL_zuoye_ex6.ipynb",
      "version": "0.3.2",
      "provenance": [],
      "collapsed_sections": [],
      "include_colab_link": true
    },
    "kernelspec": {
      "name": "python3",
      "display_name": "Python 3"
    }
  },
  "cells": [
    {
      "cell_type": "markdown",
      "metadata": {
        "id": "view-in-github",
        "colab_type": "text"
      },
      "source": [
        "<a href=\"https://colab.research.google.com/github/SStarLib/AlgorithmsSedgewick/blob/master/DL_zuoye_ex6.ipynb\" target=\"_parent\"><img src=\"https://colab.research.google.com/assets/colab-badge.svg\" alt=\"Open In Colab\"/></a>"
      ]
    },
    {
      "cell_type": "markdown",
      "metadata": {
        "id": "kFIgxbbZvcja",
        "colab_type": "text"
      },
      "source": [
        "导入包"
      ]
    },
    {
      "cell_type": "code",
      "metadata": {
        "id": "uxxz4tTLvdXz",
        "colab_type": "code",
        "colab": {}
      },
      "source": [
        "# -*- coding: utf-8 -*-\n",
        "from __future__ import division, print_function, absolute_import\n",
        "import tensorflow as tf\n",
        "import os\n",
        "import numpy\n",
        "import numpy as np\n",
        "import librosa\n",
        "from random import shuffle"
      ],
      "execution_count": 0,
      "outputs": []
    },
    {
      "cell_type": "markdown",
      "metadata": {
        "id": "J5npr8rIvmiZ",
        "colab_type": "text"
      },
      "source": [
        "配置参数\n"
      ]
    },
    {
      "cell_type": "code",
      "metadata": {
        "id": "U8oysQZnvpdd",
        "colab_type": "code",
        "colab": {}
      },
      "source": [
        "class CNNConfig(object):\n",
        "    \"\"\"CNN配置参数\"\"\"\n",
        "    num_filters = 64  # 卷积核数目\n",
        "    filter_sizes = [2,3,4,5]  # 卷积核尺寸\n",
        "    hidden_dim = 32  # 全连接层神经元\n",
        "    dropout_keep_prob = 1  # dropout保留比例\n",
        "    learning_rate = 1e-3  # 学习率\n",
        "    num_epochs = 1000  # 总迭代轮次\n",
        "    batch_size = 128\n",
        "    print_per_batch = 20\n",
        "    save_tb_per_batch = 10\n"
      ],
      "execution_count": 0,
      "outputs": []
    },
    {
      "cell_type": "markdown",
      "metadata": {
        "id": "gIY6Mfowvsi5",
        "colab_type": "text"
      },
      "source": [
        "构建模型"
      ]
    }
  ]
}